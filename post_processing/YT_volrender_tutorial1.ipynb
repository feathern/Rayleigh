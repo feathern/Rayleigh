{
 "cells": [
  {
   "cell_type": "markdown",
   "metadata": {},
   "source": [
    "# Tutorial 1: Simple Volume Rendering with yt"
   ]
  },
  {
   "cell_type": "markdown",
   "metadata": {},
   "source": [
    "This notebook provides an example of how to prepare Rayleigh Spherical_3D data output for volume rendering with yt. Then we show a few simple examples of how to create volume renderings, modify the transfer function, and manipulate the camera angle. \n",
    "\n",
    "## About yt and installing yt\n",
    "*This section is under development*\n",
    "\n",
    "Developed in Python, yt is an analysis and visualization toolkit for volumetric data. To install yt on your machine and activate it, visit this website: [https://yt-project.org/doc/installing.html](https://yt-project.org/doc/installing.html) \n",
    "\n",
    "## Preparing your Rayleigh Spherical_3D output for volume rendering with yt\n",
    "*This section is under development*\n",
    "\n",
    "Rayleigh's Spherical_3D quantities are output in a spherical grid. Many visualization software packages do not fully support spherical grids. One solution is to interpolate the quantities onto a uniform Cartesian grid with dimensions XxYxZ. Quantity values outside the spherical volume are given values of zero and can easily be made transparent using an appropriately chosen tranfer function when rendering the visualization.\n",
    "\n",
    "To prepare your Spherical_3D output: Interpolating Spherical_3D quantities onto a uniform Cartesian grid\n",
    "\n",
    "1. Copy the directory **/Rayleigh/post_processing/kyle_interp** onto your local system\n",
    "2. Compile the executable. We use the gcc compiler: **make -f Makefile.gfortran** \n",
    "3. Create a directory called **vis_test** (or something equally suitable) in which to run the interpolator. Copy the executable **interpolator.app** and the **input** file from **/Rayleigh/post_processing/kyle_interp** there.\n",
    "4. Create a directory in **vis_test** called **Spherical_3D**. In directory **Spherical_3D** copy the 3D spherical output files you wish to interpolate, including the **_grid** file.\n",
    "5. In the input file, modify the uniform radial grid resolution **nr** appropriate for your files, choose the resolution **ncube** of the resulting Cartesian cube, and modify the iteration range. When interpolating a single file, **initial_iteration** and **final_iteration** should be the same.\n",
    "6. Run the interpolation code: **./interpolator.app XXXX** (Where **XXXX** is the four digit quantity code of the quantity you wish to interpolate. For example, to interpolate a radial velocity spherical 3D output of quantity code **0001**, type: **./interpolator.app 0001**) \n",
    "7. If the code executed correctly, you should have a new file in your **/vis_test/Spherical_3D** directory called **_cube**. These files are what you will import into this notebook. \n",
    "8. Copy your new **_cube** files into the directory where you will run this Jupyter Notebook.\n",
    "\n",
    "\n",
    "## Reading in your prepared data and creating simple yt visualizations\n",
    "*This section is under development. There are known issues with YT that need to be resolved.*\n",
    "\n",
    "After (1) your yt installation has been activated and (2) you have interpolated your Rayleigh Spherical_3D output onto a uniform cartesian grid, you are ready to read the data into Python and begin visualizations with yt. "
   ]
  },
  {
   "cell_type": "code",
   "execution_count": null,
   "metadata": {},
   "outputs": [],
   "source": [
    "import numpy\n",
    "from rayleigh_diagnostics import Spherical_3D\n",
    "\n",
    "#This reads in one of the cubed data files\n",
    "#All cube data has been interpolated onto a uniform cartesian grid with dimensions 128x128x128\n",
    "rfile = 'vr_cube' #The name of your cubed data file - here we are looking at radial velocity\n",
    "nx=128\n",
    "ndata=nx**3\n",
    "arr = numpy.fromfile(rfile,dtype='float64')\n",
    "cube = numpy.reshape(arr,(nx,nx,nx))"
   ]
  },
  {
   "cell_type": "markdown",
   "metadata": {},
   "source": [
    "Load the data into YT for volume rendering and create a YT scene."
   ]
  },
  {
   "cell_type": "code",
   "execution_count": null,
   "metadata": {},
   "outputs": [],
   "source": [
    "import yt\n",
    "import numpy as np\n",
    "\n",
    "#Render an image of the cartesian grid data\n",
    "#Note that the negative values will not be plotted here. This is an issue that needs to be resolved.\n",
    "\n",
    "data = dict(velocity = (cube, \"cm/s\"))\n",
    "bbox = numpy.array([[-1.5, 1.5], [-1.5, 1.5], [-1.5, 1.5]]) #Define a bounding box \n",
    "ds = yt.load_uniform_grid(data, cube.shape, bbox=bbox, nprocs=nx) #Load a cube into YT\n",
    "sc = yt.create_scene(ds, field=('velocity')) #Set up a basic Scene in YT\n",
    "maxup = np.amax(cube)\n",
    "minup = np.amin(cube)\n",
    "print (maxup, minup) #Print the max and min values of the data"
   ]
  },
  {
   "cell_type": "markdown",
   "metadata": {},
   "source": [
    "Show the volume rendering and plot the default transfer function."
   ]
  },
  {
   "cell_type": "code",
   "execution_count": null,
   "metadata": {},
   "outputs": [],
   "source": [
    "sc.show() #Shows the image. Note that negative values will not be rendered. This is an issue that needs to be resolved.\n",
    "source = sc[0]\n",
    "source.tfh.plot(profile_field='velocity') #Plots the transfer function and the field profile"
   ]
  },
  {
   "cell_type": "markdown",
   "metadata": {},
   "source": [
    "Let's try to create a new tranfer function that we define ourselves. The method outlined below is closer to that of an isosurface render."
   ]
  },
  {
   "cell_type": "code",
   "execution_count": null,
   "metadata": {},
   "outputs": [],
   "source": [
    "#This is not an optimal transfer function, just an example of what you can do\n",
    "#More detailed transfer functions can be defined\n",
    "\n",
    "source.set_field('velocity') #Set the field to be rendered\n",
    "source.set_log(False) #Enforce a linear space - appears to work for the transfer function, but not for volume render\n",
    "bounds = (0, 12) #Set the bounds of the colormap in data space\n",
    "\n",
    "tf = yt.ColorTransferFunction(bounds) #Define a new transfer function\n",
    "\n",
    "#This is how to add new opacity points to the colormap 'plasma' with a gaussian shape\n",
    "tf.sample_colormap(1., w=1., colormap='plasma') #Gaussian centered at 1 and width 1\n",
    "tf.sample_colormap(5., w=1., colormap='plasma') #Gaussian centered at 5 and width 1\n",
    "tf.sample_colormap(10., w=1., colormap='plasma') #Gaussian centered at 10 and width 1\n",
    "\n",
    "source.tfh.tf = tf\n",
    "source.tfh.bounds = bounds\n",
    "\n",
    "source.tfh.plot(profile_field='velocity') #Plots the tranfer function"
   ]
  },
  {
   "cell_type": "markdown",
   "metadata": {},
   "source": [
    "Show the image with our newly defined transfer function."
   ]
  },
  {
   "cell_type": "code",
   "execution_count": null,
   "metadata": {},
   "outputs": [],
   "source": [
    "#Grab the first render source, set it to use the new transfer function\n",
    "render_source = sc.get_source()\n",
    "render_source.transfer_function = tf\n",
    "\n",
    "sc.render()\n",
    "sc.show(sigma_clip=2.0) #Attempt a better contrast with sigma clipping"
   ]
  },
  {
   "cell_type": "markdown",
   "metadata": {},
   "source": [
    "Below is an example of how you can (1) save the images, and (2) rotate the camera around the image 180 degrees in 5 iterations to see it from different viewpoints in longitude."
   ]
  },
  {
   "cell_type": "code",
   "execution_count": null,
   "metadata": {},
   "outputs": [],
   "source": [
    "# save an image at the starting position \n",
    "frame = 0\n",
    "sc.save('camera_movement_%04i.png' % frame)\n",
    "frame += 1\n",
    "\n",
    "# rotate the image in azimuth 180 degrees over 5 iterations, showing and saving each frame\n",
    "for _ in sc.camera.iter_rotate(np.pi, 5, rot_vector=np.array([1.0, 0.0, 0.0])):\n",
    "    sc.render()\n",
    "    sc.show(sigma_clip=2.0)\n",
    "    #sc.save('camera_movement_%04i.png' % frame) #Uncomment this line if you want to save your series of images.\n",
    "    frame += 1"
   ]
  },
  {
   "cell_type": "markdown",
   "metadata": {},
   "source": [
    "Here is another way to create custom transfer functions. It is possible to define your own functions to map out a custom opacity level. This one creates a transfer function that increases linearly in opacity over the defined bounds, using all the colors available in the entire color map. Find out more about tranfer function capabilities [here](https://yt-project.org/doc/reference/api/yt.visualization.volume_rendering.transfer_functions.html?highlight=map_to_colormap#module-yt.visualization.volume_rendering.transfer_functions)."
   ]
  },
  {
   "cell_type": "code",
   "execution_count": null,
   "metadata": {},
   "outputs": [],
   "source": [
    "#Another example of defining your own transfer function with a user-defined function, here called linramp\n",
    "#Note again that this is not an optimal transfer function, just an example of what you can do\n",
    "\n",
    "source = sc[0]\n",
    "\n",
    "source.set_field('velocity')\n",
    "source.set_log(False)\n",
    "\n",
    "bounds = (0., 12.) #set the bounds of your transfer function in data values\n",
    "\n",
    "tf = yt.ColorTransferFunction(bounds)\n",
    "\n",
    "def linramp(vals, minval, maxval): #User-defined function to control the alpha levels, alpha is similar to opacity \n",
    "    return (vals - vals.min())/(vals.max() - vals.min())\n",
    "\n",
    "tf.map_to_colormap(0., 12., colormap='Rainbow', #scale_func(function(value, minval, maxval))\n",
    "                   scale_func=linramp)\n",
    "\n",
    "source.tfh.tf = tf\n",
    "source.tfh.bounds = bounds\n",
    "\n",
    "source.tfh.plot(profile_field='velocity') #Plot the new transfer function"
   ]
  },
  {
   "cell_type": "markdown",
   "metadata": {},
   "source": [
    "Show the image with our newly defined transfer function. This transfer function will highlight the strongest positive radial velocity structures. "
   ]
  },
  {
   "cell_type": "code",
   "execution_count": null,
   "metadata": {},
   "outputs": [],
   "source": [
    "# Grab the first render source and set it to use the new transfer function\n",
    "render_source = sc.get_source()\n",
    "render_source.transfer_function = tf\n",
    "\n",
    "sc.render()\n",
    "sc.show(sigma_clip=4.0) #Render the image and show it on screen"
   ]
  },
  {
   "cell_type": "code",
   "execution_count": null,
   "metadata": {},
   "outputs": [],
   "source": []
  }
 ],
 "metadata": {
  "kernelspec": {
   "display_name": "Python 3",
   "language": "python",
   "name": "python3"
  },
  "language_info": {
   "codemirror_mode": {
    "name": "ipython",
    "version": 3
   },
   "file_extension": ".py",
   "mimetype": "text/x-python",
   "name": "python",
   "nbconvert_exporter": "python",
   "pygments_lexer": "ipython3",
   "version": "3.7.3"
  }
 },
 "nbformat": 4,
 "nbformat_minor": 2
}
