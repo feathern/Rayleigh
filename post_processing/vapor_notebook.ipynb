{
 "cells": [
  {
   "cell_type": "code",
   "execution_count": null,
   "metadata": {},
   "outputs": [],
   "source": [
    "#Must have rayleigh_vapor class\n",
    "#Useful to have gen_3d_filelist helper function\n",
    "from rayleigh_diagnostics import rayleigh_vapor , gen_3d_filelist"
   ]
  },
  {
   "cell_type": "code",
   "execution_count": null,
   "metadata": {},
   "outputs": [],
   "source": [
    "rundir=\"/home/feathern/vis/demo2\"         # Not necessary, but useful\n",
    "data_dir=rundir+'/Spherical_3D'           # Where the Rayleigh 3-D output is located\n",
    "                                          # This is required -- default is './Spherical_3D'\n",
    "gf = rundir+'/Spherical_3D/00278100_grid' # Grid file\n",
    "\n",
    "vaporfile = rundir+'/ra_vis_demo'         # dataset name (omit the .vdc or .vdf) \n",
    "cube_size_N=256                           # interpolate on to NxNxN uniform Cartesian grid\n",
    "\n",
    "rroot='/home/feathern/devel/forks/Nick/Rayleigh/bin'  # Rayleigh repo bin location\n",
    "\n",
    "tempdir='/home/feathern/y_r_u_deleting_me' # for temporary IO (default is '.')\n",
    "\n",
    "# Next, we need to specify where Vapor is installed\n",
    "# Specifically, we want the Vapor \"bin\" directory.\n",
    "# Looking inside the bin directory, you will files like raw2vdf{vdc} and vdf{vdc}create\n",
    "vapor_version=2\n",
    "if (vapor_version == 3):\n",
    "    vbin='/custom/software/VAPOR3-3.2.0-Linux/bin'   # base directory for Vapor\n",
    "    # FOR MAC, it will be something like: vroot=`/Applications/vapor.app/Contents/MacOS`\n",
    "else:\n",
    "    vbin='/custom/software/vapor-2.6.0.RC0/bin'\n",
    "    vaporfile=vaporfile+'_v2'   # not necessary, but if you're trying Vapor 2 and 3 with same data, it's useful.\n",
    "\n",
    "\n",
    "#For now, one grid file name must be supplied\n",
    "#(all files must share the same grid, so only one file is supplied)\n",
    "\n",
    "\n",
    "#We must also supply a name for the Vapor dataset.\n",
    "#Omit the .vdc or .vdf; that is determined based on the Vapor version we choose below.\n",
    "#Path can be full or local to where you run the notebook\n",
    " \n",
    "\n",
    "#We will be interpolating the simulation data onto a uniform, Cartesian\n",
    "#grid of dimension NxNxN\n",
    "\n",
    "\n",
    "# Next, we need to specify where the Rayleigh repository exists.\n",
    "# It is assumed that interp3d is compiled and resides at rroot/bin/interp3d\n",
    "\n",
    "\n",
    "# While not necessary, it's useful to identify a directory where intermediate files\n",
    "# will be created, and later deleted.  By default, this is the same directory from\n",
    "# which the script executes.  Be sure and create the directory beforehand.  If you're\n",
    "# good with Nick Featherstone writing and deleting whatever he want's from your harddrive,\n",
    "# there is absolutely no need to pass this variable to the creation routine.\n",
    "\n",
    "    \n"
   ]
  },
  {
   "cell_type": "code",
   "execution_count": null,
   "metadata": {},
   "outputs": [],
   "source": [
    "diter = 20          # time-step difference between outputs\n",
    "first_iter = 278020 # First time-step number to process\n",
    "last_iter  = 278100 # Last time-step number to process\n",
    "\n",
    "#First, generate a list of files to use for scalar variables\n",
    "var_codes = [501, 3]          # quantity codes for temperature and vphi (from Rayleigh)\n",
    "var_names = ['temp','vphi']    # associated names (user choice)\n",
    "files=gen_3d_filelist(var_codes,diter,first_iter,last_iter,directory=data_dir)\n",
    "print(files)\n",
    "\n",
    "#Note that what is returned here is a 2-D nested list.\n",
    "#You are not required to use gen_3d_filelist BUT\n",
    "#You absolutely must respect the 2-D, nested format, even for 1 timestep.  So:\n",
    "#files[0] = ['quantity 1 @ timestep 0', 'quantity 2 @ timestep 0', ..., 'quantity N @ timestep 0']\n",
    "#files[1] = ['quantity 1 @ timestep 1', 'quantity 2 @ timestep 1', ..., 'quantity N @ timestep 1']\n",
    "#...\n",
    "#files[N] = ['quantity 1 @ timestep N', 'quantity 2 @ timestep N', ..., 'quantity N @ timestep N']"
   ]
  },
  {
   "cell_type": "code",
   "execution_count": null,
   "metadata": {},
   "outputs": [],
   "source": [
    "# Many outputs that we might like to visualize have a significant ell=0 or m=0\n",
    "# component that makes visualization difficult and/or uninteresting.\n",
    "# FOR SCALAR variables only, these mean values can be substracted, if desired.\n",
    "\n",
    "# If you would like to remove the spherical  mean, set the remove_means keyword to\n",
    "# an array of True (remove mean) or False (do not remove) values, \n",
    "# 1 element per quantity code.  All elements must\n",
    "# be specified.\n",
    "\n",
    "# This is an optional flag, so if you do not want to remove any spherical means,\n",
    "# omit this flag alltogether.\n",
    "\n",
    "remove_spherical_means=[True , False]  # Adjust temperature, but leave vphi unchanged\n",
    "\n",
    "# Similarly, we can remove the longitudinal mean via remove_phi_means.\n",
    "# This flag works just as remove_sph_means.  \n",
    "# We don't do this here, but uncomment and modify the line below if you would like to\n",
    "# remove_phi_means=[False,True]  # This would leave T alone, but remove differential rotation\n",
    "\n",
    "# Additionally, we can zero out points above and/or below some threshold value in radius.\n",
    "# This is potentially useful if you are trying to minimize the effect of boundary-layers\n",
    "# in your models.  This is accomplished through the rmaxes and rmins keywords.  They\n",
    "# can be used in isolation, or in tandem with one another. Both are optional, so if you \n",
    "# don't use them, don't pass them to the dataset creation routine.\n",
    "\n",
    "# If you would like to zero out r > rmax for each data set, provide an\n",
    "# array of values below (1 array value for each quantity code).\n",
    "\n",
    "#IF you want to zero out r > rmax for some quantities, but not for others, \n",
    "# you must still specify all array values, setting unused values to None.\n",
    "# We do not perform this modification here, but\n",
    "# If we wanted to zero out temperature for r > 1.2 and leave vphi unchanged, we would set\n",
    "# rmaxes=[1.2, None]  \n",
    "# For now, however, since we explicitly pass this flag to the creation routine below, we set it,\n",
    "# explicitly to the value below, which indicates, \"do nothing.\" \n",
    "rmaxes=[None, None]\n",
    "\n",
    "# The rmins flag works the same way.  In the example commented below, we perform \n",
    "# no action on temperature, but for vphi, we zero out r < 1.0\n",
    "#rmins=[None, 1.0].  Again, we don't do this for now, so:\n",
    "rmins=[None, None]"
   ]
  },
  {
   "cell_type": "code",
   "execution_count": null,
   "metadata": {},
   "outputs": [],
   "source": [
    "#Same, but now a list of quantity codes for\n",
    "# the r,theta,phi components of any vector we want to convert to a Cartesian vector\n",
    "vqcodes = [1,2,3]        # velocity (r,theta,phi)\n",
    "wqcodes = [301,302,303]  # vorticity (r,theta,phi)\n",
    "\n",
    "vfiles=gen_3d_filelist(vqcodes,diter,first_iter,last_iter,directory=data_dir)\n",
    "wfiles=gen_3d_filelist(wqcodes,diter,first_iter,last_iter,directory=data_dir)\n",
    "vnames = ['vx', 'vy', 'vz']         # velocity\n",
    "wnames = ['wx', 'wy', 'wz', 'wmag'] # vorticity, including magnitude \n",
    "                                    # the magnitude (optional) is calculated automatically\n",
    "                                    # useful for coloring vortex lines\n",
    "\n",
    "vector_names = [vnames, wnames]     # 2-D nested list\n",
    "vector_files = [vfiles, wfiles]     # 3-D nested list (each 2-D sublist is structured as for scalars above)\n",
    "print(vector_files)"
   ]
  },
  {
   "cell_type": "code",
   "execution_count": null,
   "metadata": {},
   "outputs": [],
   "source": [
    "test = rayleigh_vapor(name=vaporfile,varnames=var_names,varfiles=files,vapor_bin=vbin,\n",
    "                       nxyz=cube_size_N, grid_file=gf, rayleigh_root=rroot, force=True,\n",
    "                       remove_spherical_means=remove_spherical_means, rmaxes=rmaxes, rmins=rmins, \n",
    "                       vapor_version=vapor_version,\n",
    "                       vector_names=vector_names, vector_files=vector_files, tempdir=tempdir)\n",
    "test.create_dataset(force=True)"
   ]
  },
  {
   "cell_type": "code",
   "execution_count": null,
   "metadata": {},
   "outputs": [],
   "source": [
    "test.populate_dataset()"
   ]
  },
  {
   "cell_type": "code",
   "execution_count": null,
   "metadata": {},
   "outputs": [],
   "source": []
  }
 ],
 "metadata": {
  "kernelspec": {
   "display_name": "Python 3",
   "language": "python",
   "name": "python3"
  },
  "language_info": {
   "codemirror_mode": {
    "name": "ipython",
    "version": 3
   },
   "file_extension": ".py",
   "mimetype": "text/x-python",
   "name": "python",
   "nbconvert_exporter": "python",
   "pygments_lexer": "ipython3",
   "version": "3.7.3"
  }
 },
 "nbformat": 4,
 "nbformat_minor": 2
}
